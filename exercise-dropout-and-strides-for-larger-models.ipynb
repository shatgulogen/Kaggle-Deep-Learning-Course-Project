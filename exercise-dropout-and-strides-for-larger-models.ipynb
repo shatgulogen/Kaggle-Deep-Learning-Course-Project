{
 "cells": [
  {
   "cell_type": "markdown",
   "execution_count": null,
   "metadata": {
    "papermill": {
     "duration": 0.005684,
     "end_time": "2020-09-07T05:58:57.006426",
     "exception": false,
     "start_time": "2020-09-07T05:58:57.000742",
     "status": "completed"
    },
    "tags": []
   },
   "source": [
    "**[Deep Learning Home Page](https://www.kaggle.com/learn/deep-learning)**\n",
    "\n",
    "---\n"
   ]
  },
  {
   "cell_type": "markdown",
   "execution_count": null,
   "metadata": {
    "papermill": {
     "duration": 0.004153,
     "end_time": "2020-09-07T05:58:57.015502",
     "exception": false,
     "start_time": "2020-09-07T05:58:57.011349",
     "status": "completed"
    },
    "tags": []
   },
   "source": [
    "# Introduction\n",
    "\n",
    "You've built a model to identify clothing types in the **MNIST for Fashion** dataset.  Now you will make your model bigger, specify larger stride lengths and apply dropout. These changes will make your model faster and more accurate.\n",
    "\n",
    "This is a last step in the **[Deep Learning Track](https://www.kaggle.com/learn/deep-learning)**.\n",
    "\n",
    "\n",
    "## Data Preparation\n",
    "**Run this cell of code.**\n"
   ]
  },
  {
   "cell_type": "code",
   "execution_count": 1,
   "metadata": {
    "execution": {
     "iopub.execute_input": "2020-09-07T05:58:57.035290Z",
     "iopub.status.busy": "2020-09-07T05:58:57.034418Z",
     "iopub.status.idle": "2020-09-07T05:59:40.845097Z",
     "shell.execute_reply": "2020-09-07T05:59:40.846017Z"
    },
    "papermill": {
     "duration": 43.826806,
     "end_time": "2020-09-07T05:59:40.846299",
     "exception": false,
     "start_time": "2020-09-07T05:58:57.019493",
     "status": "completed"
    },
    "tags": []
   },
   "outputs": [
    {
     "name": "stdout",
     "output_type": "stream",
     "text": [
      "Setup Complete\n"
     ]
    }
   ],
   "source": [
    "import numpy as np\n",
    "from sklearn.model_selection import train_test_split\n",
    "from tensorflow import keras\n",
    "\n",
    "# Set up code checking\n",
    "from learntools.core import binder\n",
    "binder.bind(globals())\n",
    "from learntools.deep_learning.exercise_8 import *\n",
    "print(\"Setup Complete\")\n",
    "\n",
    "img_rows, img_cols = 28, 28\n",
    "num_classes = 10\n",
    "\n",
    "def prep_data(raw):\n",
    "    y = raw[:, 0]\n",
    "    out_y = keras.utils.to_categorical(y, num_classes)\n",
    "    \n",
    "    x = raw[:,1:]\n",
    "    num_images = raw.shape[0]\n",
    "    out_x = x.reshape(num_images, img_rows, img_cols, 1)\n",
    "    out_x = out_x / 255\n",
    "    return out_x, out_y\n",
    "\n",
    "fashion_file = \"../input/fashionmnist/fashion-mnist_train.csv\"\n",
    "fashion_data = np.loadtxt(fashion_file, skiprows=1, delimiter=',')\n",
    "x, y = prep_data(fashion_data)"
   ]
  },
  {
   "cell_type": "markdown",
   "execution_count": null,
   "metadata": {
    "papermill": {
     "duration": 0.006151,
     "end_time": "2020-09-07T05:59:40.860405",
     "exception": false,
     "start_time": "2020-09-07T05:59:40.854254",
     "status": "completed"
    },
    "tags": []
   },
   "source": [
    "# 1) Increasing Stride Size in A Layer\n",
    "\n",
    "Below is a model without strides (or more accurately, with a stride length of 1)\n",
    "\n",
    "Run it. Notice it's accuracy and how long it takes per epoch. Then you will change the stride length in one of the layers."
   ]
  },
  {
   "cell_type": "code",
   "execution_count": 2,
   "metadata": {
    "execution": {
     "iopub.execute_input": "2020-09-07T05:59:40.879411Z",
     "iopub.status.busy": "2020-09-07T05:59:40.878424Z",
     "iopub.status.idle": "2020-09-07T06:00:16.218533Z",
     "shell.execute_reply": "2020-09-07T06:00:16.218045Z"
    },
    "papermill": {
     "duration": 35.350032,
     "end_time": "2020-09-07T06:00:16.218646",
     "exception": false,
     "start_time": "2020-09-07T05:59:40.868614",
     "status": "completed"
    },
    "tags": []
   },
   "outputs": [
    {
     "name": "stdout",
     "output_type": "stream",
     "text": [
      "Epoch 1/3\n",
      "3000/3000 [==============================] - 9s 3ms/step - loss: 0.4016 - accuracy: 0.8535 - val_loss: 0.3038 - val_accuracy: 0.8940\n",
      "Epoch 2/3\n",
      "3000/3000 [==============================] - 10s 3ms/step - loss: 0.2550 - accuracy: 0.9055 - val_loss: 0.2755 - val_accuracy: 0.9007\n",
      "Epoch 3/3\n",
      "3000/3000 [==============================] - 9s 3ms/step - loss: 0.1857 - accuracy: 0.9318 - val_loss: 0.2564 - val_accuracy: 0.9078\n"
     ]
    },
    {
     "data": {
      "text/plain": [
       "<tensorflow.python.keras.callbacks.History at 0x7fa6320d4350>"
      ]
     },
     "execution_count": 2,
     "metadata": {},
     "output_type": "execute_result"
    }
   ],
   "source": [
    "from tensorflow.keras.models import Sequential\n",
    "from tensorflow.keras.layers import Dense, Flatten, Conv2D, Dropout\n",
    "\n",
    "batch_size = 16\n",
    "\n",
    "fashion_model = Sequential()\n",
    "fashion_model.add(Conv2D(16, kernel_size=(3, 3),\n",
    "                 activation='relu',\n",
    "                 input_shape=(img_rows, img_cols, 1)))\n",
    "fashion_model.add(Conv2D(16, (3, 3), activation='relu'))\n",
    "fashion_model.add(Flatten())\n",
    "fashion_model.add(Dense(128, activation='relu'))\n",
    "fashion_model.add(Dense(num_classes, activation='softmax'))\n",
    "\n",
    "fashion_model.compile(loss=keras.losses.categorical_crossentropy,\n",
    "              optimizer='adam',\n",
    "              metrics=['accuracy'])\n",
    "\n",
    "fashion_model.fit(x, y,\n",
    "          batch_size=batch_size,\n",
    "          epochs=3,\n",
    "          validation_split = 0.2)\n"
   ]
  },
  {
   "cell_type": "markdown",
   "execution_count": null,
   "metadata": {
    "papermill": {
     "duration": 0.031947,
     "end_time": "2020-09-07T06:00:16.282068",
     "exception": false,
     "start_time": "2020-09-07T06:00:16.250121",
     "status": "completed"
    },
    "tags": []
   },
   "source": [
    "You have the same code in the cell below, but the model is now called `fashion_model_1`.  Change the specification of `fashion_model_1` so the second convolutional layer has a stride length of 2.\n",
    "\n",
    "Run the cell after you have done that. How does the speed and accuracy change compared to the first model you ran above?"
   ]
  },
  {
   "cell_type": "code",
   "execution_count": 3,
   "metadata": {
    "execution": {
     "iopub.execute_input": "2020-09-07T06:00:16.375402Z",
     "iopub.status.busy": "2020-09-07T06:00:16.374469Z",
     "iopub.status.idle": "2020-09-07T06:00:44.927601Z",
     "shell.execute_reply": "2020-09-07T06:00:44.928887Z"
    },
    "papermill": {
     "duration": 28.604027,
     "end_time": "2020-09-07T06:00:44.929094",
     "exception": false,
     "start_time": "2020-09-07T06:00:16.325067",
     "status": "completed"
    },
    "tags": []
   },
   "outputs": [
    {
     "name": "stdout",
     "output_type": "stream",
     "text": [
      "Epoch 1/3\n",
      "3000/3000 [==============================] - 9s 3ms/step - loss: 0.4239 - accuracy: 0.8473 - val_loss: 0.3431 - val_accuracy: 0.8748\n",
      "Epoch 2/3\n",
      "3000/3000 [==============================] - 10s 3ms/step - loss: 0.2823 - accuracy: 0.8959 - val_loss: 0.2990 - val_accuracy: 0.8941\n",
      "Epoch 3/3\n",
      "3000/3000 [==============================] - 9s 3ms/step - loss: 0.2269 - accuracy: 0.9156 - val_loss: 0.2730 - val_accuracy: 0.9022\n"
     ]
    },
    {
     "data": {
      "application/javascript": [
       "parent.postMessage({\"jupyterEvent\": \"custom.exercise_interaction\", \"data\": {\"outcomeType\": 1, \"valueTowardsCompletion\": 1.0, \"interactionType\": 1, \"questionType\": 2, \"questionId\": \"1_AddStrides\", \"learnToolsVersion\": \"0.3.4\", \"failureMessage\": \"\", \"exceptionClass\": \"\", \"trace\": \"\"}}, \"*\")"
      ],
      "text/plain": [
       "<IPython.core.display.Javascript object>"
      ]
     },
     "metadata": {},
     "output_type": "display_data"
    },
    {
     "data": {
      "text/markdown": [
       "<span style=\"color:#33cc33\">Correct</span>"
      ],
      "text/plain": [
       "Correct"
      ]
     },
     "metadata": {},
     "output_type": "display_data"
    }
   ],
   "source": [
    "fashion_model_1 = Sequential()\n",
    "fashion_model_1.add(Conv2D(16, kernel_size=(3, 3),\n",
    "                 activation='relu',\n",
    "                 input_shape=(img_rows, img_cols, 1)))\n",
    "fashion_model_1.add(Conv2D(16, (3, 3),activation='relu', strides=2))\n",
    "fashion_model_1.add(Flatten())\n",
    "fashion_model_1.add(Dense(128, activation='relu'))\n",
    "fashion_model_1.add(Dense(num_classes, activation='softmax'))\n",
    "\n",
    "fashion_model_1.compile(loss=keras.losses.categorical_crossentropy,\n",
    "              optimizer='adam',\n",
    "              metrics=['accuracy'])\n",
    "\n",
    "fashion_model_1.fit(x, y,\n",
    "          batch_size=batch_size,\n",
    "          epochs=3,\n",
    "          validation_split = 0.2)\n",
    "\n",
    "# Check your answer\n",
    "q_1.check()"
   ]
  },
  {
   "cell_type": "markdown",
   "execution_count": null,
   "metadata": {
    "papermill": {
     "duration": 0.058079,
     "end_time": "2020-09-07T06:00:45.054109",
     "exception": false,
     "start_time": "2020-09-07T06:00:44.996030",
     "status": "completed"
    },
    "tags": []
   },
   "source": [
    "For the solution, uncomment and run the cell below:"
   ]
  },
  {
   "cell_type": "code",
   "execution_count": 4,
   "metadata": {
    "execution": {
     "iopub.execute_input": "2020-09-07T06:00:45.174411Z",
     "iopub.status.busy": "2020-09-07T06:00:45.172081Z",
     "iopub.status.idle": "2020-09-07T06:00:45.178807Z",
     "shell.execute_reply": "2020-09-07T06:00:45.178295Z"
    },
    "papermill": {
     "duration": 0.067418,
     "end_time": "2020-09-07T06:00:45.178904",
     "exception": false,
     "start_time": "2020-09-07T06:00:45.111486",
     "status": "completed"
    },
    "tags": []
   },
   "outputs": [
    {
     "data": {
      "application/javascript": [
       "parent.postMessage({\"jupyterEvent\": \"custom.exercise_interaction\", \"data\": {\"interactionType\": 3, \"questionType\": 2, \"questionId\": \"1_AddStrides\", \"learnToolsVersion\": \"0.3.4\", \"valueTowardsCompletion\": 0.0, \"failureMessage\": \"\", \"exceptionClass\": \"\", \"trace\": \"\", \"outcomeType\": 4}}, \"*\")"
      ],
      "text/plain": [
       "<IPython.core.display.Javascript object>"
      ]
     },
     "metadata": {},
     "output_type": "display_data"
    },
    {
     "data": {
      "text/markdown": [
       "<span style=\"color:#33cc99\">Solution:</span> \n",
       "```python\n",
       "\n",
       "fashion_model_1 = Sequential()\n",
       "fashion_model_1.add(Conv2D(16, kernel_size=(3, 3),\n",
       "                 activation='relu',\n",
       "                 input_shape=(img_rows, img_cols, 1)))\n",
       "# This is the only line that changed\n",
       "fashion_model_1.add(Conv2D(16, (3, 3), activation='relu', strides=2))\n",
       "fashion_model_1.add(Flatten())\n",
       "fashion_model_1.add(Dense(128, activation='relu'))\n",
       "fashion_model_1.add(Dense(num_classes, activation='softmax'))\n",
       "\n",
       "# the fit and compile steps are not shown here since they did not change\n",
       "\n",
       "```"
      ],
      "text/plain": [
       "Solution: \n",
       "```python\n",
       "\n",
       "fashion_model_1 = Sequential()\n",
       "fashion_model_1.add(Conv2D(16, kernel_size=(3, 3),\n",
       "                 activation='relu',\n",
       "                 input_shape=(img_rows, img_cols, 1)))\n",
       "# This is the only line that changed\n",
       "fashion_model_1.add(Conv2D(16, (3, 3), activation='relu', strides=2))\n",
       "fashion_model_1.add(Flatten())\n",
       "fashion_model_1.add(Dense(128, activation='relu'))\n",
       "fashion_model_1.add(Dense(num_classes, activation='softmax'))\n",
       "\n",
       "# the fit and compile steps are not shown here since they did not change\n",
       "\n",
       "```"
      ]
     },
     "metadata": {},
     "output_type": "display_data"
    }
   ],
   "source": [
    "q_1.solution()"
   ]
  },
  {
   "cell_type": "markdown",
   "execution_count": null,
   "metadata": {
    "papermill": {
     "duration": 0.055527,
     "end_time": "2020-09-07T06:00:45.290339",
     "exception": false,
     "start_time": "2020-09-07T06:00:45.234812",
     "status": "completed"
    },
    "tags": []
   },
   "source": [
    "You should notice that your model training ran about twice as fast, but the accuracy change was trivial.  \n",
    "\n",
    "In addition to being faster to train, this model is also faster at making predictions. This is very important in many scenarios. In practice, you'll need to decide whether that type of speed is important in the applications where you eventually apply deep learning models.\n",
    "\n",
    "You could experiment with more layers or more convolutions in each layer. With some fine-tuning, you can build a model that is both faster and more accurate than the original model."
   ]
  },
  {
   "cell_type": "markdown",
   "execution_count": null,
   "metadata": {
    "papermill": {
     "duration": 0.054859,
     "end_time": "2020-09-07T06:00:45.400281",
     "exception": false,
     "start_time": "2020-09-07T06:00:45.345422",
     "status": "completed"
    },
    "tags": []
   },
   "source": [
    "# Congrats\n",
    "You've finished the Deep Learning course.  You have the tools to create and tune computer vision models.  \n",
    "\n",
    "If you feel like playing more with this dataset, you can open up a new code cell to experiment with different models (adding dropout, adding layers, etc.)  Or pick a new project and try out your skills.  \n",
    "\n",
    "A few fun datasets you might try include:\n",
    "- [Written letter recognition](https://www.kaggle.com/olgabelitskaya/classification-of-handwritten-letters)\n",
    "- [Flower Identification](https://www.kaggle.com/alxmamaev/flowers-recognition)\n",
    "- [Cats vs Dogs](https://www.kaggle.com/c/dogs-vs-cats-redux-kernels-edition)\n",
    "- [10 Monkeys](https://www.kaggle.com/slothkong/10-monkey-species)\n",
    "- [Predict Bone Age from X-Rays](https://www.kaggle.com/kmader/rsna-bone-age)\n",
    "\n",
    "You have learned a lot, and you'll learn it as you practice. Have fun with it!"
   ]
  },
  {
   "cell_type": "markdown",
   "execution_count": null,
   "metadata": {
    "papermill": {
     "duration": 0.058429,
     "end_time": "2020-09-07T06:00:45.514457",
     "exception": false,
     "start_time": "2020-09-07T06:00:45.456028",
     "status": "completed"
    },
    "tags": []
   },
   "source": [
    "---\n",
    "**[Deep Learning Home Page](https://www.kaggle.com/learn/deep-learning)**\n",
    "\n",
    "\n",
    "\n",
    "\n",
    "\n",
    "*Have questions or comments? Visit the [Learn Discussion forum](https://www.kaggle.com/learn-forum) to chat with other Learners.*"
   ]
  }
 ],
 "metadata": {
  "kernelspec": {
   "display_name": "Python 3",
   "language": "python",
   "name": "python3"
  },
  "language_info": {
   "codemirror_mode": {
    "name": "ipython",
    "version": 3
   },
   "file_extension": ".py",
   "mimetype": "text/x-python",
   "name": "python",
   "nbconvert_exporter": "python",
   "pygments_lexer": "ipython3",
   "version": "3.7.6"
  },
  "papermill": {
   "duration": 113.784632,
   "end_time": "2020-09-07T06:00:46.679881",
   "environment_variables": {},
   "exception": null,
   "input_path": "__notebook__.ipynb",
   "output_path": "__notebook__.ipynb",
   "parameters": {},
   "start_time": "2020-09-07T05:58:52.895249",
   "version": "2.1.0"
  }
 },
 "nbformat": 4,
 "nbformat_minor": 4
}
