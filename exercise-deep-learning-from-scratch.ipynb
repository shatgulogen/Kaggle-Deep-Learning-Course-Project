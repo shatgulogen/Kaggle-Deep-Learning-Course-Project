{
 "cells": [
  {
   "cell_type": "markdown",
   "execution_count": null,
   "metadata": {
    "papermill": {
     "duration": 0.007642,
     "end_time": "2020-09-07T05:46:20.977061",
     "exception": false,
     "start_time": "2020-09-07T05:46:20.969419",
     "status": "completed"
    },
    "tags": []
   },
   "source": [
    "**[Deep Learning Home Page](https://www.kaggle.com/learn/deep-learning)**\n",
    "\n",
    "---\n"
   ]
  },
  {
   "cell_type": "markdown",
   "execution_count": null,
   "metadata": {
    "papermill": {
     "duration": 0.005748,
     "end_time": "2020-09-07T05:46:20.988584",
     "exception": false,
     "start_time": "2020-09-07T05:46:20.982836",
     "status": "completed"
    },
    "tags": []
   },
   "source": [
    "# Introduction\n",
    "\n",
    "You've seen how to build a model from scratch to identify handwritten digits.  You'll now build a model to identify different types of clothing.  To make models that train quickly, we'll work with very small (low-resolution) images. \n",
    "\n",
    "As an example, your model will take an images like this and identify it as a shoe:\n",
    "\n",
    "![Imgur](https://i.imgur.com/GyXOnSB.png)"
   ]
  },
  {
   "cell_type": "markdown",
   "execution_count": null,
   "metadata": {
    "papermill": {
     "duration": 0.005536,
     "end_time": "2020-09-07T05:46:21.000679",
     "exception": false,
     "start_time": "2020-09-07T05:46:20.995143",
     "status": "completed"
    },
    "tags": []
   },
   "source": [
    "# Data Preparation\n",
    "This code is supplied, and you don't need to change it. Just run the cell below."
   ]
  },
  {
   "cell_type": "code",
   "execution_count": 1,
   "metadata": {
    "execution": {
     "iopub.execute_input": "2020-09-07T05:46:21.024587Z",
     "iopub.status.busy": "2020-09-07T05:46:21.023736Z",
     "iopub.status.idle": "2020-09-07T05:47:03.091044Z",
     "shell.execute_reply": "2020-09-07T05:47:03.091871Z"
    },
    "papermill": {
     "duration": 42.084345,
     "end_time": "2020-09-07T05:47:03.092081",
     "exception": false,
     "start_time": "2020-09-07T05:46:21.007736",
     "status": "completed"
    },
    "tags": []
   },
   "outputs": [
    {
     "name": "stdout",
     "output_type": "stream",
     "text": [
      "Using TensorFlow version 2.3.0\n",
      "Setup Complete\n"
     ]
    }
   ],
   "source": [
    "import numpy as np\n",
    "from sklearn.model_selection import train_test_split\n",
    "from tensorflow import keras\n",
    "\n",
    "img_rows, img_cols = 28, 28\n",
    "num_classes = 10\n",
    "\n",
    "def prep_data(raw):\n",
    "    y = raw[:, 0]\n",
    "    out_y = keras.utils.to_categorical(y, num_classes)\n",
    "    \n",
    "    x = raw[:,1:]\n",
    "    num_images = raw.shape[0]\n",
    "    out_x = x.reshape(num_images, img_rows, img_cols, 1)\n",
    "    out_x = out_x / 255\n",
    "    return out_x, out_y\n",
    "\n",
    "fashion_file = \"../input/fashionmnist/fashion-mnist_train.csv\"\n",
    "fashion_data = np.loadtxt(fashion_file, skiprows=1, delimiter=',')\n",
    "x, y = prep_data(fashion_data)\n",
    "\n",
    "# Set up code checking\n",
    "from learntools.core import binder\n",
    "binder.bind(globals())\n",
    "from learntools.deep_learning.exercise_7 import *\n",
    "print(\"Setup Complete\")"
   ]
  },
  {
   "cell_type": "markdown",
   "execution_count": null,
   "metadata": {
    "papermill": {
     "duration": 0.005957,
     "end_time": "2020-09-07T05:47:03.105426",
     "exception": false,
     "start_time": "2020-09-07T05:47:03.099469",
     "status": "completed"
    },
    "tags": []
   },
   "source": [
    "# 1) Start the model\n",
    "Create a `Sequential` model called `fashion_model`. Don't add layers yet."
   ]
  },
  {
   "cell_type": "code",
   "execution_count": 2,
   "metadata": {
    "execution": {
     "iopub.execute_input": "2020-09-07T05:47:03.122268Z",
     "iopub.status.busy": "2020-09-07T05:47:03.121609Z",
     "iopub.status.idle": "2020-09-07T05:47:05.841884Z",
     "shell.execute_reply": "2020-09-07T05:47:05.842464Z"
    },
    "papermill": {
     "duration": 2.731351,
     "end_time": "2020-09-07T05:47:05.842611",
     "exception": false,
     "start_time": "2020-09-07T05:47:03.111260",
     "status": "completed"
    },
    "tags": []
   },
   "outputs": [
    {
     "data": {
      "application/javascript": [
       "parent.postMessage({\"jupyterEvent\": \"custom.exercise_interaction\", \"data\": {\"outcomeType\": 1, \"valueTowardsCompletion\": 0.16666666666666666, \"interactionType\": 1, \"questionType\": 2, \"questionId\": \"1_StartSequentialModel\", \"learnToolsVersion\": \"0.3.4\", \"failureMessage\": \"\", \"exceptionClass\": \"\", \"trace\": \"\"}}, \"*\")"
      ],
      "text/plain": [
       "<IPython.core.display.Javascript object>"
      ]
     },
     "metadata": {},
     "output_type": "display_data"
    },
    {
     "data": {
      "text/markdown": [
       "<span style=\"color:#33cc33\">Correct</span>"
      ],
      "text/plain": [
       "Correct"
      ]
     },
     "metadata": {},
     "output_type": "display_data"
    }
   ],
   "source": [
    "from tensorflow import keras\n",
    "from tensorflow.keras.models import Sequential\n",
    "from tensorflow.keras.layers import Dense, Flatten, Conv2D\n",
    "\n",
    "# Your Code Here\n",
    "fashion_model = Sequential()\n",
    "\n",
    "# Check your answer\n",
    "q_1.check()"
   ]
  },
  {
   "cell_type": "code",
   "execution_count": 3,
   "metadata": {
    "execution": {
     "iopub.execute_input": "2020-09-07T05:47:05.860552Z",
     "iopub.status.busy": "2020-09-07T05:47:05.859941Z",
     "iopub.status.idle": "2020-09-07T05:47:05.864285Z",
     "shell.execute_reply": "2020-09-07T05:47:05.863639Z"
    },
    "papermill": {
     "duration": 0.014561,
     "end_time": "2020-09-07T05:47:05.864398",
     "exception": false,
     "start_time": "2020-09-07T05:47:05.849837",
     "status": "completed"
    },
    "tags": []
   },
   "outputs": [],
   "source": [
    "#q_1.solution()"
   ]
  },
  {
   "cell_type": "markdown",
   "execution_count": null,
   "metadata": {
    "papermill": {
     "duration": 0.006107,
     "end_time": "2020-09-07T05:47:05.876837",
     "exception": false,
     "start_time": "2020-09-07T05:47:05.870730",
     "status": "completed"
    },
    "tags": []
   },
   "source": [
    "# 2) Add the first layer\n",
    "\n",
    "Add the first `Conv2D` layer to `fashion_model`. It should have 12 filters, a kernel_size of 3 and the `relu` activation function. The first layer always requires that you specify the `input_shape`.  We have saved the number of rows and columns to the variables `img_rows` and `img_cols` respectively, so the input shape in this case is `(img_rows, img_cols, 1)`."
   ]
  },
  {
   "cell_type": "code",
   "execution_count": 4,
   "metadata": {
    "execution": {
     "iopub.execute_input": "2020-09-07T05:47:05.900094Z",
     "iopub.status.busy": "2020-09-07T05:47:05.898592Z",
     "iopub.status.idle": "2020-09-07T05:47:05.947076Z",
     "shell.execute_reply": "2020-09-07T05:47:05.946293Z"
    },
    "papermill": {
     "duration": 0.064059,
     "end_time": "2020-09-07T05:47:05.947172",
     "exception": false,
     "start_time": "2020-09-07T05:47:05.883113",
     "status": "completed"
    },
    "tags": []
   },
   "outputs": [
    {
     "data": {
      "application/javascript": [
       "parent.postMessage({\"jupyterEvent\": \"custom.exercise_interaction\", \"data\": {\"outcomeType\": 1, \"valueTowardsCompletion\": 0.16666666666666666, \"interactionType\": 1, \"questionType\": 2, \"questionId\": \"2_AddFirstLayer\", \"learnToolsVersion\": \"0.3.4\", \"failureMessage\": \"\", \"exceptionClass\": \"\", \"trace\": \"\"}}, \"*\")"
      ],
      "text/plain": [
       "<IPython.core.display.Javascript object>"
      ]
     },
     "metadata": {},
     "output_type": "display_data"
    },
    {
     "data": {
      "text/markdown": [
       "<span style=\"color:#33cc33\">Correct</span>"
      ],
      "text/plain": [
       "Correct"
      ]
     },
     "metadata": {},
     "output_type": "display_data"
    }
   ],
   "source": [
    "# Your code here\n",
    "fashion_model.add(Conv2D(12, kernel_size =(3, 3),\n",
    "                activation = 'relu',\n",
    "                input_shape =(img_rows, img_cols, 1)))\n",
    "\n",
    "# Check your answer\n",
    "q_2.check()"
   ]
  },
  {
   "cell_type": "code",
   "execution_count": 5,
   "metadata": {
    "execution": {
     "iopub.execute_input": "2020-09-07T05:47:05.965231Z",
     "iopub.status.busy": "2020-09-07T05:47:05.963342Z",
     "iopub.status.idle": "2020-09-07T05:47:05.965876Z",
     "shell.execute_reply": "2020-09-07T05:47:05.966385Z"
    },
    "papermill": {
     "duration": 0.012825,
     "end_time": "2020-09-07T05:47:05.966491",
     "exception": false,
     "start_time": "2020-09-07T05:47:05.953666",
     "status": "completed"
    },
    "tags": []
   },
   "outputs": [],
   "source": [
    "# q_2.hint()\n",
    "#q_2.solution()"
   ]
  },
  {
   "cell_type": "markdown",
   "execution_count": null,
   "metadata": {
    "papermill": {
     "duration": 0.006132,
     "end_time": "2020-09-07T05:47:05.979204",
     "exception": false,
     "start_time": "2020-09-07T05:47:05.973072",
     "status": "completed"
    },
    "tags": []
   },
   "source": [
    "# 3) Add the remaining layers\n",
    "\n",
    "1. Add 2 more convolutional (`Conv2D layers`) with 20 filters each, 'relu' activation, and a kernel size of 3. Follow that with a `Flatten` layer, and then a `Dense` layer with 100 neurons. \n",
    "2. Add your prediction layer to `fashion_model`.  This is a `Dense` layer.  We alrady have a variable called `num_classes`.  Use this variable when specifying the number of nodes in this layer. The activation should be `softmax` (or you will have problems later)."
   ]
  },
  {
   "cell_type": "code",
   "execution_count": 6,
   "metadata": {
    "execution": {
     "iopub.execute_input": "2020-09-07T05:47:06.001468Z",
     "iopub.status.busy": "2020-09-07T05:47:06.000561Z",
     "iopub.status.idle": "2020-09-07T05:47:06.039856Z",
     "shell.execute_reply": "2020-09-07T05:47:06.040395Z"
    },
    "papermill": {
     "duration": 0.054725,
     "end_time": "2020-09-07T05:47:06.040507",
     "exception": false,
     "start_time": "2020-09-07T05:47:05.985782",
     "status": "completed"
    },
    "tags": []
   },
   "outputs": [
    {
     "data": {
      "application/javascript": [
       "parent.postMessage({\"jupyterEvent\": \"custom.exercise_interaction\", \"data\": {\"outcomeType\": 1, \"valueTowardsCompletion\": 0.16666666666666666, \"interactionType\": 1, \"questionType\": 2, \"questionId\": \"3_AddMoreLayers\", \"learnToolsVersion\": \"0.3.4\", \"failureMessage\": \"\", \"exceptionClass\": \"\", \"trace\": \"\"}}, \"*\")"
      ],
      "text/plain": [
       "<IPython.core.display.Javascript object>"
      ]
     },
     "metadata": {},
     "output_type": "display_data"
    },
    {
     "data": {
      "text/markdown": [
       "<span style=\"color:#33cc33\">Correct</span>"
      ],
      "text/plain": [
       "Correct"
      ]
     },
     "metadata": {},
     "output_type": "display_data"
    }
   ],
   "source": [
    "# Your code here\n",
    "fashion_model.add(Conv2D(20, kernel_size =(3, 3),\n",
    "                activation = 'relu'))\n",
    "fashion_model.add(Conv2D(20, kernel_size =(3, 3),\n",
    "                activation = 'relu'))\n",
    "fashion_model.add(Flatten())\n",
    "fashion_model.add(Dense(100, activation ='relu'))\n",
    "fashion_model.add(Dense(num_classes, activation ='softmax'))\n",
    "# Check your answer\n",
    "q_3.check()"
   ]
  },
  {
   "cell_type": "code",
   "execution_count": 7,
   "metadata": {
    "execution": {
     "iopub.execute_input": "2020-09-07T05:47:06.057592Z",
     "iopub.status.busy": "2020-09-07T05:47:06.057030Z",
     "iopub.status.idle": "2020-09-07T05:47:06.061376Z",
     "shell.execute_reply": "2020-09-07T05:47:06.060871Z"
    },
    "papermill": {
     "duration": 0.014079,
     "end_time": "2020-09-07T05:47:06.061461",
     "exception": false,
     "start_time": "2020-09-07T05:47:06.047382",
     "status": "completed"
    },
    "tags": []
   },
   "outputs": [],
   "source": [
    "# q_3.solution()"
   ]
  },
  {
   "cell_type": "markdown",
   "execution_count": null,
   "metadata": {
    "papermill": {
     "duration": 0.006727,
     "end_time": "2020-09-07T05:47:06.075050",
     "exception": false,
     "start_time": "2020-09-07T05:47:06.068323",
     "status": "completed"
    },
    "tags": []
   },
   "source": [
    "# 4) Compile Your Model\n",
    "Compile fashion_model with the `compile` method.  Specify the following arguments:\n",
    "1. `loss = \"categorical_crossentropy\"`\n",
    "2. `optimizer = 'adam'`\n",
    "3. `metrics = ['accuracy']`"
   ]
  },
  {
   "cell_type": "code",
   "execution_count": 8,
   "metadata": {
    "execution": {
     "iopub.execute_input": "2020-09-07T05:47:06.100430Z",
     "iopub.status.busy": "2020-09-07T05:47:06.099361Z",
     "iopub.status.idle": "2020-09-07T05:47:06.108873Z",
     "shell.execute_reply": "2020-09-07T05:47:06.109393Z"
    },
    "papermill": {
     "duration": 0.027486,
     "end_time": "2020-09-07T05:47:06.109502",
     "exception": false,
     "start_time": "2020-09-07T05:47:06.082016",
     "status": "completed"
    },
    "tags": []
   },
   "outputs": [
    {
     "data": {
      "application/javascript": [
       "parent.postMessage({\"jupyterEvent\": \"custom.exercise_interaction\", \"data\": {\"outcomeType\": 1, \"valueTowardsCompletion\": 0.16666666666666666, \"interactionType\": 1, \"questionType\": 2, \"questionId\": \"4_CompileModel\", \"learnToolsVersion\": \"0.3.4\", \"failureMessage\": \"\", \"exceptionClass\": \"\", \"trace\": \"\"}}, \"*\")"
      ],
      "text/plain": [
       "<IPython.core.display.Javascript object>"
      ]
     },
     "metadata": {},
     "output_type": "display_data"
    },
    {
     "data": {
      "text/markdown": [
       "<span style=\"color:#33cc33\">Correct</span>"
      ],
      "text/plain": [
       "Correct"
      ]
     },
     "metadata": {},
     "output_type": "display_data"
    }
   ],
   "source": [
    "# Your code to compile the model in this cell\n",
    "fashion_model.compile(loss = keras.losses.categorical_crossentropy,\n",
    "                     optimizer = 'adam',\n",
    "                     metrics = ['accuracy'])\n",
    "# Check your answer\n",
    "q_4.check()"
   ]
  },
  {
   "cell_type": "code",
   "execution_count": 9,
   "metadata": {
    "execution": {
     "iopub.execute_input": "2020-09-07T05:47:06.127471Z",
     "iopub.status.busy": "2020-09-07T05:47:06.126859Z",
     "iopub.status.idle": "2020-09-07T05:47:06.130707Z",
     "shell.execute_reply": "2020-09-07T05:47:06.130175Z"
    },
    "papermill": {
     "duration": 0.014248,
     "end_time": "2020-09-07T05:47:06.130799",
     "exception": false,
     "start_time": "2020-09-07T05:47:06.116551",
     "status": "completed"
    },
    "tags": []
   },
   "outputs": [],
   "source": [
    "# q_4.solution()"
   ]
  },
  {
   "cell_type": "markdown",
   "execution_count": null,
   "metadata": {
    "papermill": {
     "duration": 0.006993,
     "end_time": "2020-09-07T05:47:06.145076",
     "exception": false,
     "start_time": "2020-09-07T05:47:06.138083",
     "status": "completed"
    },
    "tags": []
   },
   "source": [
    "# 5) Fit The Model\n",
    "Run the command `fashion_model.fit`. The arguments you will use are\n",
    "1. The data used to fit the model. First comes the data holding the images, and second is the data with the class labels to be predicted. Look at the first code cell (which was supplied to you) where we called `prep_data` to find the variable names for these.\n",
    "2. `batch_size = 100`\n",
    "3. `epochs = 4`\n",
    "4. `validation_split = 0.2`\n",
    "\n",
    "When you run this command, you can watch your model start improving.  You will see validation accuracies after each epoch."
   ]
  },
  {
   "cell_type": "code",
   "execution_count": 10,
   "metadata": {
    "execution": {
     "iopub.execute_input": "2020-09-07T05:47:06.164314Z",
     "iopub.status.busy": "2020-09-07T05:47:06.163570Z",
     "iopub.status.idle": "2020-09-07T05:47:18.788320Z",
     "shell.execute_reply": "2020-09-07T05:47:18.787783Z"
    },
    "papermill": {
     "duration": 12.636344,
     "end_time": "2020-09-07T05:47:18.788438",
     "exception": false,
     "start_time": "2020-09-07T05:47:06.152094",
     "status": "completed"
    },
    "tags": []
   },
   "outputs": [
    {
     "name": "stdout",
     "output_type": "stream",
     "text": [
      "Epoch 1/4\n",
      "480/480 [==============================] - 2s 5ms/step - loss: 0.4731 - accuracy: 0.8301 - val_loss: 0.3545 - val_accuracy: 0.8744\n",
      "Epoch 2/4\n",
      "480/480 [==============================] - 2s 4ms/step - loss: 0.3059 - accuracy: 0.8899 - val_loss: 0.3232 - val_accuracy: 0.8854\n",
      "Epoch 3/4\n",
      "480/480 [==============================] - 2s 4ms/step - loss: 0.2475 - accuracy: 0.9091 - val_loss: 0.2831 - val_accuracy: 0.9019\n",
      "Epoch 4/4\n",
      "480/480 [==============================] - 2s 4ms/step - loss: 0.2051 - accuracy: 0.9250 - val_loss: 0.2793 - val_accuracy: 0.9012\n"
     ]
    },
    {
     "data": {
      "application/javascript": [
       "parent.postMessage({\"jupyterEvent\": \"custom.exercise_interaction\", \"data\": {\"outcomeType\": 1, \"valueTowardsCompletion\": 0.16666666666666666, \"interactionType\": 1, \"questionType\": 2, \"questionId\": \"5_FitFullDLModel\", \"learnToolsVersion\": \"0.3.4\", \"failureMessage\": \"\", \"exceptionClass\": \"\", \"trace\": \"\"}}, \"*\")"
      ],
      "text/plain": [
       "<IPython.core.display.Javascript object>"
      ]
     },
     "metadata": {},
     "output_type": "display_data"
    },
    {
     "data": {
      "text/markdown": [
       "<span style=\"color:#33cc33\">Correct</span>"
      ],
      "text/plain": [
       "Correct"
      ]
     },
     "metadata": {},
     "output_type": "display_data"
    }
   ],
   "source": [
    "# Your code to fit the model here\n",
    "fashion_model.fit(x, y,\n",
    "                 batch_size = 100,\n",
    "                 epochs = 4,\n",
    "                 validation_split = 0.2)\n",
    "\n",
    "# Check your answer\n",
    "q_5.check()"
   ]
  },
  {
   "cell_type": "code",
   "execution_count": 11,
   "metadata": {
    "execution": {
     "iopub.execute_input": "2020-09-07T05:47:18.823579Z",
     "iopub.status.busy": "2020-09-07T05:47:18.822993Z",
     "iopub.status.idle": "2020-09-07T05:47:18.827181Z",
     "shell.execute_reply": "2020-09-07T05:47:18.826582Z"
    },
    "papermill": {
     "duration": 0.022757,
     "end_time": "2020-09-07T05:47:18.827316",
     "exception": false,
     "start_time": "2020-09-07T05:47:18.804559",
     "status": "completed"
    },
    "tags": []
   },
   "outputs": [],
   "source": [
    "#q_5.solution()"
   ]
  },
  {
   "cell_type": "markdown",
   "execution_count": null,
   "metadata": {
    "papermill": {
     "duration": 0.015046,
     "end_time": "2020-09-07T05:47:18.857663",
     "exception": false,
     "start_time": "2020-09-07T05:47:18.842617",
     "status": "completed"
    },
    "tags": []
   },
   "source": [
    "# 6) Create A New Model\n",
    "\n",
    "Create a new model called `second_fashion_model` in the cell below.  Make some changes so it is different than `fashion_model` that you've trained above. The change could be using a different number of layers, different number of convolutions in the layers, etc.\n",
    "\n",
    "Define the model, compile it and fit it in the cell below.  See how its validation score compares to that of the original model."
   ]
  },
  {
   "cell_type": "code",
   "execution_count": 12,
   "metadata": {
    "execution": {
     "iopub.execute_input": "2020-09-07T05:47:18.901690Z",
     "iopub.status.busy": "2020-09-07T05:47:18.900735Z",
     "iopub.status.idle": "2020-09-07T05:47:30.310283Z",
     "shell.execute_reply": "2020-09-07T05:47:30.309787Z"
    },
    "papermill": {
     "duration": 11.437502,
     "end_time": "2020-09-07T05:47:30.310392",
     "exception": false,
     "start_time": "2020-09-07T05:47:18.872890",
     "status": "completed"
    },
    "tags": []
   },
   "outputs": [
    {
     "name": "stdout",
     "output_type": "stream",
     "text": [
      "Epoch 1/4\n",
      "480/480 [==============================] - 3s 6ms/step - loss: 0.5553 - accuracy: 0.7955 - val_loss: 0.4099 - val_accuracy: 0.8531\n",
      "Epoch 2/4\n",
      "480/480 [==============================] - 3s 5ms/step - loss: 0.3496 - accuracy: 0.8730 - val_loss: 0.3325 - val_accuracy: 0.8788\n",
      "Epoch 3/4\n",
      "480/480 [==============================] - 3s 5ms/step - loss: 0.2871 - accuracy: 0.8943 - val_loss: 0.2941 - val_accuracy: 0.8950\n",
      "Epoch 4/4\n",
      "480/480 [==============================] - 2s 5ms/step - loss: 0.2511 - accuracy: 0.9083 - val_loss: 0.2911 - val_accuracy: 0.9016\n",
      "Model summary from second_fashion_model.summary()\n",
      "Model: \"sequential_1\"\n",
      "_________________________________________________________________\n",
      "Layer (type)                 Output Shape              Param #   \n",
      "=================================================================\n",
      "conv2d_3 (Conv2D)            (None, 26, 26, 12)        120       \n",
      "_________________________________________________________________\n",
      "conv2d_4 (Conv2D)            (None, 24, 24, 20)        2180      \n",
      "_________________________________________________________________\n",
      "conv2d_5 (Conv2D)            (None, 22, 22, 20)        3620      \n",
      "_________________________________________________________________\n",
      "conv2d_6 (Conv2D)            (None, 20, 20, 20)        3620      \n",
      "_________________________________________________________________\n",
      "conv2d_7 (Conv2D)            (None, 18, 18, 20)        3620      \n",
      "_________________________________________________________________\n",
      "flatten_1 (Flatten)          (None, 6480)              0         \n",
      "_________________________________________________________________\n",
      "dense_2 (Dense)              (None, 100)               648100    \n",
      "_________________________________________________________________\n",
      "dense_3 (Dense)              (None, 10)                1010      \n",
      "=================================================================\n",
      "Total params: 662,270\n",
      "Trainable params: 662,270\n",
      "Non-trainable params: 0\n",
      "_________________________________________________________________\n",
      "None\n"
     ]
    },
    {
     "data": {
      "application/javascript": [
       "parent.postMessage({\"jupyterEvent\": \"custom.exercise_interaction\", \"data\": {\"outcomeType\": 1, \"valueTowardsCompletion\": 0.16666666666666666, \"interactionType\": 1, \"questionType\": 2, \"questionId\": \"6_CreateNewDLModelFromScratch\", \"learnToolsVersion\": \"0.3.4\", \"failureMessage\": \"\", \"exceptionClass\": \"\", \"trace\": \"\"}}, \"*\")"
      ],
      "text/plain": [
       "<IPython.core.display.Javascript object>"
      ]
     },
     "metadata": {},
     "output_type": "display_data"
    },
    {
     "data": {
      "text/markdown": [
       "<span style=\"color:#33cc33\">Correct</span>"
      ],
      "text/plain": [
       "Correct"
      ]
     },
     "metadata": {},
     "output_type": "display_data"
    }
   ],
   "source": [
    "# Your code below\n",
    "second_fashion_model=Sequential()\n",
    "second_fashion_model.add(Conv2D(12, kernel_size =(3, 3),\n",
    "                activation = 'relu',\n",
    "                input_shape =(img_rows, img_cols, 1)))\n",
    "second_fashion_model.add(Conv2D(20, kernel_size =(3, 3),\n",
    "                activation = 'relu'))\n",
    "second_fashion_model.add(Conv2D(20, kernel_size =(3, 3),\n",
    "                activation = 'relu'))\n",
    "second_fashion_model.add(Conv2D(20, kernel_size =(3, 3),\n",
    "                activation = 'relu'))\n",
    "second_fashion_model.add(Conv2D(20, kernel_size =(3, 3),\n",
    "                activation = 'relu'))\n",
    "second_fashion_model.add(Flatten())\n",
    "second_fashion_model.add(Dense(100, activation ='relu'))\n",
    "second_fashion_model.add(Dense(num_classes, activation ='softmax'))\n",
    "\n",
    "second_fashion_model.compile(loss = keras.losses.categorical_crossentropy,\n",
    "                     optimizer = 'adam',\n",
    "                     metrics = ['accuracy'])\n",
    "\n",
    "second_fashion_model.fit(x, y,\n",
    "                 batch_size = 100,\n",
    "                 epochs = 4,\n",
    "                 validation_split = 0.2)\n",
    "\n",
    "\n",
    "\n",
    "\n",
    "# Don't remove this line (ensures comptibility with tensorflow 2.0)\n",
    "second_fashion_model.history.history['val_acc'] = second_fashion_model.history.history['val_accuracy']\n",
    "# Check your answer\n",
    "q_6.check()"
   ]
  },
  {
   "cell_type": "code",
   "execution_count": 13,
   "metadata": {
    "execution": {
     "iopub.execute_input": "2020-09-07T05:47:30.366732Z",
     "iopub.status.busy": "2020-09-07T05:47:30.366056Z",
     "iopub.status.idle": "2020-09-07T05:47:30.370639Z",
     "shell.execute_reply": "2020-09-07T05:47:30.369954Z"
    },
    "papermill": {
     "duration": 0.034462,
     "end_time": "2020-09-07T05:47:30.370750",
     "exception": false,
     "start_time": "2020-09-07T05:47:30.336288",
     "status": "completed"
    },
    "tags": []
   },
   "outputs": [],
   "source": [
    "#q_6.solution()"
   ]
  },
  {
   "cell_type": "markdown",
   "execution_count": null,
   "metadata": {
    "papermill": {
     "duration": 0.02568,
     "end_time": "2020-09-07T05:47:30.426218",
     "exception": false,
     "start_time": "2020-09-07T05:47:30.400538",
     "status": "completed"
    },
    "tags": []
   },
   "source": [
    "# Keep Going\n",
    "You are ready to learn about **[strides and dropout](https://www.kaggle.com/dansbecker/dropout-and-strides-for-larger-models)**, which become important as you start using bigger and more powerful models.\n"
   ]
  },
  {
   "cell_type": "markdown",
   "execution_count": null,
   "metadata": {
    "papermill": {
     "duration": 0.025334,
     "end_time": "2020-09-07T05:47:30.476632",
     "exception": false,
     "start_time": "2020-09-07T05:47:30.451298",
     "status": "completed"
    },
    "tags": []
   },
   "source": [
    "---\n",
    "**[Deep Learning Home Page](https://www.kaggle.com/learn/deep-learning)**\n",
    "\n",
    "\n",
    "\n",
    "\n",
    "\n",
    "*Have questions or comments? Visit the [Learn Discussion forum](https://www.kaggle.com/learn-forum) to chat with other Learners.*"
   ]
  }
 ],
 "metadata": {
  "kernelspec": {
   "display_name": "Python 3",
   "language": "python",
   "name": "python3"
  },
  "language_info": {
   "codemirror_mode": {
    "name": "ipython",
    "version": 3
   },
   "file_extension": ".py",
   "mimetype": "text/x-python",
   "name": "python",
   "nbconvert_exporter": "python",
   "pygments_lexer": "ipython3",
   "version": "3.7.6"
  },
  "papermill": {
   "duration": 75.945583,
   "end_time": "2020-09-07T05:47:32.465429",
   "environment_variables": {},
   "exception": null,
   "input_path": "__notebook__.ipynb",
   "output_path": "__notebook__.ipynb",
   "parameters": {},
   "start_time": "2020-09-07T05:46:16.519846",
   "version": "2.1.0"
  }
 },
 "nbformat": 4,
 "nbformat_minor": 4
}
