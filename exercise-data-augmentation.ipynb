{
 "cells": [
  {
   "cell_type": "markdown",
   "execution_count": null,
   "metadata": {
    "papermill": {
     "duration": 0.006308,
     "end_time": "2020-09-07T03:57:50.789593",
     "exception": false,
     "start_time": "2020-09-07T03:57:50.783285",
     "status": "completed"
    },
    "tags": []
   },
   "source": [
    "**[Deep Learning Home Page](https://www.kaggle.com/learn/deep-learning)**\n",
    "\n",
    "---\n"
   ]
  },
  {
   "cell_type": "markdown",
   "execution_count": null,
   "metadata": {
    "papermill": {
     "duration": 0.004341,
     "end_time": "2020-09-07T03:57:50.798804",
     "exception": false,
     "start_time": "2020-09-07T03:57:50.794463",
     "status": "completed"
    },
    "tags": []
   },
   "source": [
    "# Exercise Introduction\n",
    "We will return to the automatic rotation problem you worked on in the previous exercise. But we'll add data augmentation to improve your model.\n",
    "\n",
    "The model specification and compilation steps don't change when you start using data augmentation. The code you've already worked with for specifying and compiling a model is in the cell below.  Run it so you'll be ready to work on data augmentation."
   ]
  },
  {
   "cell_type": "code",
   "execution_count": 1,
   "metadata": {
    "_kg_hide-output": true,
    "execution": {
     "iopub.execute_input": "2020-09-07T03:57:50.818617Z",
     "iopub.status.busy": "2020-09-07T03:57:50.817857Z",
     "iopub.status.idle": "2020-09-07T03:58:02.104580Z",
     "shell.execute_reply": "2020-09-07T03:58:02.103968Z"
    },
    "papermill": {
     "duration": 11.301059,
     "end_time": "2020-09-07T03:58:02.104702",
     "exception": false,
     "start_time": "2020-09-07T03:57:50.803643",
     "status": "completed"
    },
    "tags": []
   },
   "outputs": [
    {
     "name": "stdout",
     "output_type": "stream",
     "text": [
      "Setup Complete\n"
     ]
    }
   ],
   "source": [
    "from tensorflow.keras.applications import ResNet50\n",
    "from tensorflow.keras.models import Sequential\n",
    "from tensorflow.keras.layers import Dense, Flatten, GlobalAveragePooling2D\n",
    "\n",
    "num_classes = 2\n",
    "resnet_weights_path = '../input/resnet50/resnet50_weights_tf_dim_ordering_tf_kernels_notop.h5'\n",
    "\n",
    "my_new_model = Sequential()\n",
    "my_new_model.add(ResNet50(include_top=False, pooling='avg', weights=resnet_weights_path))\n",
    "my_new_model.add(Dense(num_classes, activation='softmax'))\n",
    "\n",
    "my_new_model.layers[0].trainable = False\n",
    "\n",
    "my_new_model.compile(optimizer='sgd', loss='categorical_crossentropy', metrics=['accuracy'])\n",
    "\n",
    "# Set up code checking\n",
    "from learntools.core import binder\n",
    "binder.bind(globals())\n",
    "from learntools.deep_learning.exercise_5 import *\n",
    "print(\"Setup Complete\")"
   ]
  },
  {
   "cell_type": "markdown",
   "execution_count": null,
   "metadata": {
    "papermill": {
     "duration": 0.004481,
     "end_time": "2020-09-07T03:58:02.114526",
     "exception": false,
     "start_time": "2020-09-07T03:58:02.110045",
     "status": "completed"
    },
    "tags": []
   },
   "source": [
    "# 1) Fit the Model Using Data Augmentation\n",
    "\n",
    "Here is some code to set up some ImageDataGenerators. Run it, and then answer the questions below about it."
   ]
  },
  {
   "cell_type": "code",
   "execution_count": 2,
   "metadata": {
    "execution": {
     "iopub.execute_input": "2020-09-07T03:58:02.133661Z",
     "iopub.status.busy": "2020-09-07T03:58:02.132059Z",
     "iopub.status.idle": "2020-09-07T03:58:02.135047Z",
     "shell.execute_reply": "2020-09-07T03:58:02.135571Z"
    },
    "papermill": {
     "duration": 0.015033,
     "end_time": "2020-09-07T03:58:02.135688",
     "exception": false,
     "start_time": "2020-09-07T03:58:02.120655",
     "status": "completed"
    },
    "tags": []
   },
   "outputs": [],
   "source": [
    "from tensorflow.keras.applications.resnet50 import preprocess_input\n",
    "from tensorflow.keras.preprocessing.image import ImageDataGenerator\n",
    "\n",
    "image_size = 224\n",
    "\n",
    "# Specify the values for all arguments to data_generator_with_aug.\n",
    "data_generator_with_aug = ImageDataGenerator(preprocessing_function=preprocess_input,\n",
    "                                              horizontal_flip = True,\n",
    "                                              width_shift_range = 0.1,\n",
    "                                              height_shift_range = 0.1)\n",
    "            \n",
    "data_generator_no_aug = ImageDataGenerator(preprocessing_function=preprocess_input)\n"
   ]
  },
  {
   "cell_type": "markdown",
   "execution_count": null,
   "metadata": {
    "papermill": {
     "duration": 0.004602,
     "end_time": "2020-09-07T03:58:02.145035",
     "exception": false,
     "start_time": "2020-09-07T03:58:02.140433",
     "status": "completed"
    },
    "tags": []
   },
   "source": [
    "Why do we need both a generator with augmentation and a generator without augmentation? After thinking about it, check out the solution below."
   ]
  },
  {
   "cell_type": "code",
   "execution_count": 3,
   "metadata": {
    "execution": {
     "iopub.execute_input": "2020-09-07T03:58:02.161878Z",
     "iopub.status.busy": "2020-09-07T03:58:02.159859Z",
     "iopub.status.idle": "2020-09-07T03:58:02.166508Z",
     "shell.execute_reply": "2020-09-07T03:58:02.166970Z"
    },
    "papermill": {
     "duration": 0.017107,
     "end_time": "2020-09-07T03:58:02.167099",
     "exception": false,
     "start_time": "2020-09-07T03:58:02.149992",
     "status": "completed"
    },
    "tags": []
   },
   "outputs": [
    {
     "data": {
      "application/javascript": [
       "parent.postMessage({\"jupyterEvent\": \"custom.exercise_interaction\", \"data\": {\"interactionType\": 3, \"questionType\": 4, \"questionId\": \"1_WhyTwoGenerators\", \"learnToolsVersion\": \"0.3.4\", \"valueTowardsCompletion\": 0.0, \"failureMessage\": \"\", \"exceptionClass\": \"\", \"trace\": \"\", \"outcomeType\": 4}}, \"*\")"
      ],
      "text/plain": [
       "<IPython.core.display.Javascript object>"
      ]
     },
     "metadata": {},
     "output_type": "display_data"
    },
    {
     "data": {
      "text/markdown": [
       "<span style=\"color:#33cc99\">Solution:</span> \n",
       "We want to do data augmentation when fitting the model for the reasons mentioned\n",
       "in the video (including a reduction in overfitting, by giving us more data to work with).\n",
       "\n",
       "But we don't want to change how we test the model. So the validation generator\n",
       "will use an ImageDataGenerator without augmentation. That allows a straightforward\n",
       "comparison between different training procedures (e.g. training with augmentation\n",
       "and without it).\n",
       "\n",
       "If the augmentation made it harder to predict the label associated with an image\n",
       "(e.g. because of how the image was cropped in augmentation) that would make it misleading\n",
       "to compare scores to another procedure where the validation data was only original images.\n"
      ],
      "text/plain": [
       "Solution: \n",
       "We want to do data augmentation when fitting the model for the reasons mentioned\n",
       "in the video (including a reduction in overfitting, by giving us more data to work with).\n",
       "\n",
       "But we don't want to change how we test the model. So the validation generator\n",
       "will use an ImageDataGenerator without augmentation. That allows a straightforward\n",
       "comparison between different training procedures (e.g. training with augmentation\n",
       "and without it).\n",
       "\n",
       "If the augmentation made it harder to predict the label associated with an image\n",
       "(e.g. because of how the image was cropped in augmentation) that would make it misleading\n",
       "to compare scores to another procedure where the validation data was only original images."
      ]
     },
     "metadata": {},
     "output_type": "display_data"
    }
   ],
   "source": [
    "# Check your answer (Run this code cell to receive credit!)\n",
    "q_1.solution()"
   ]
  },
  {
   "cell_type": "markdown",
   "execution_count": null,
   "metadata": {
    "papermill": {
     "duration": 0.004807,
     "end_time": "2020-09-07T03:58:02.177018",
     "exception": false,
     "start_time": "2020-09-07T03:58:02.172211",
     "status": "completed"
    },
    "tags": []
   },
   "source": [
    "# 2) Choosing Augmentation Types\n",
    "ImageDataGenerator offers many types of data augmentation. For example, one argument is `rotation_range`. This rotates each image by a random amount that can be up to whatever value you specify.\n",
    "\n",
    "Would it be sensible to use automatic rotation for this problem?  Why or why not?"
   ]
  },
  {
   "cell_type": "code",
   "execution_count": 4,
   "metadata": {
    "execution": {
     "iopub.execute_input": "2020-09-07T03:58:02.190783Z",
     "iopub.status.busy": "2020-09-07T03:58:02.190209Z",
     "iopub.status.idle": "2020-09-07T03:58:02.197523Z",
     "shell.execute_reply": "2020-09-07T03:58:02.198033Z"
    },
    "papermill": {
     "duration": 0.016194,
     "end_time": "2020-09-07T03:58:02.198161",
     "exception": false,
     "start_time": "2020-09-07T03:58:02.181967",
     "status": "completed"
    },
    "tags": []
   },
   "outputs": [
    {
     "data": {
      "application/javascript": [
       "parent.postMessage({\"jupyterEvent\": \"custom.exercise_interaction\", \"data\": {\"interactionType\": 3, \"questionType\": 4, \"questionId\": \"2_RotationCriticism\", \"learnToolsVersion\": \"0.3.4\", \"valueTowardsCompletion\": 0.0, \"failureMessage\": \"\", \"exceptionClass\": \"\", \"trace\": \"\", \"outcomeType\": 4}}, \"*\")"
      ],
      "text/plain": [
       "<IPython.core.display.Javascript object>"
      ]
     },
     "metadata": {},
     "output_type": "display_data"
    },
    {
     "data": {
      "text/markdown": [
       "<span style=\"color:#33cc99\">Solution:</span> \n",
       "The goal in this problem is to tell if an image is upright or sideways.  Rotating images\n",
       "moderately might cause images that don't feel cleanly in either category.\n",
       "\n",
       "Since data augmentation affects images without touching the labels, a dramatic rotation\n",
       "would mean some images are used for training with the wrong label (e.g. an image would be rotated\n",
       "sideways by the generator, and still have a label of being upright)\n"
      ],
      "text/plain": [
       "Solution: \n",
       "The goal in this problem is to tell if an image is upright or sideways.  Rotating images\n",
       "moderately might cause images that don't feel cleanly in either category.\n",
       "\n",
       "Since data augmentation affects images without touching the labels, a dramatic rotation\n",
       "would mean some images are used for training with the wrong label (e.g. an image would be rotated\n",
       "sideways by the generator, and still have a label of being upright)"
      ]
     },
     "metadata": {},
     "output_type": "display_data"
    }
   ],
   "source": [
    "# Check your answer (Run this code cell to receive credit!)\n",
    "q_2.solution()"
   ]
  },
  {
   "cell_type": "markdown",
   "execution_count": null,
   "metadata": {
    "papermill": {
     "duration": 0.004917,
     "end_time": "2020-09-07T03:58:02.208389",
     "exception": false,
     "start_time": "2020-09-07T03:58:02.203472",
     "status": "completed"
    },
    "tags": []
   },
   "source": [
    "# 3) Code\n",
    "Fill in the missing pieces in the following code. We've supplied some boilerplate. You need to think about what ImageDataGenerator is used for each data source."
   ]
  },
  {
   "cell_type": "code",
   "execution_count": 5,
   "metadata": {
    "execution": {
     "iopub.execute_input": "2020-09-07T03:58:02.225506Z",
     "iopub.status.busy": "2020-09-07T03:58:02.224831Z",
     "iopub.status.idle": "2020-09-07T03:58:23.799623Z",
     "shell.execute_reply": "2020-09-07T03:58:23.800140Z"
    },
    "papermill": {
     "duration": 21.586535,
     "end_time": "2020-09-07T03:58:23.800282",
     "exception": false,
     "start_time": "2020-09-07T03:58:02.213747",
     "status": "completed"
    },
    "tags": [
     "raises-exception"
    ]
   },
   "outputs": [
    {
     "name": "stdout",
     "output_type": "stream",
     "text": [
      "Found 220 images belonging to 2 classes.\n",
      "Found 217 images belonging to 2 classes.\n",
      "Epoch 1/3\n",
      "19/19 [==============================] - 6s 312ms/step - loss: 0.6256 - accuracy: 0.7545 - val_loss: 0.1690 - val_accuracy: 0.9447\n",
      "Epoch 2/3\n",
      "19/19 [==============================] - 4s 221ms/step - loss: 0.1117 - accuracy: 0.9636 - val_loss: 0.1463 - val_accuracy: 0.9355\n",
      "Epoch 3/3\n",
      "19/19 [==============================] - 4s 207ms/step - loss: 0.0631 - accuracy: 0.9955 - val_loss: 0.1063 - val_accuracy: 0.9631\n"
     ]
    },
    {
     "data": {
      "application/javascript": [
       "parent.postMessage({\"jupyterEvent\": \"custom.exercise_interaction\", \"data\": {\"outcomeType\": 1, \"valueTowardsCompletion\": 0.25, \"interactionType\": 1, \"questionType\": 2, \"questionId\": \"3_CodeWithAugmentation\", \"learnToolsVersion\": \"0.3.4\", \"failureMessage\": \"\", \"exceptionClass\": \"\", \"trace\": \"\"}}, \"*\")"
      ],
      "text/plain": [
       "<IPython.core.display.Javascript object>"
      ]
     },
     "metadata": {},
     "output_type": "display_data"
    },
    {
     "data": {
      "text/markdown": [
       "<span style=\"color:#33cc33\">Correct</span>"
      ],
      "text/plain": [
       "Correct"
      ]
     },
     "metadata": {},
     "output_type": "display_data"
    }
   ],
   "source": [
    "# Specify which type of ImageDataGenerator above is to load in training data\n",
    "train_generator = data_generator_with_aug.flow_from_directory(\n",
    "        directory = '../input/dogs-gone-sideways/images/train',\n",
    "        target_size=(image_size, image_size),\n",
    "        batch_size=12,\n",
    "        class_mode='categorical')\n",
    "\n",
    "# Specify which type of ImageDataGenerator above is to load in validation data\n",
    "validation_generator = data_generator_no_aug.flow_from_directory(\n",
    "        directory = '../input/dogs-gone-sideways/images/val',\n",
    "        target_size=(image_size, image_size),\n",
    "        class_mode='categorical')\n",
    "\n",
    "my_new_model.fit_generator(\n",
    "        train_generator, # if you don't know what argument goes first, try the hint\n",
    "        epochs = 3,\n",
    "        steps_per_epoch=19,\n",
    "        validation_data=validation_generator)\n",
    "\n",
    "# Check your answer\n",
    "q_3.check()"
   ]
  },
  {
   "cell_type": "code",
   "execution_count": 6,
   "metadata": {
    "execution": {
     "iopub.execute_input": "2020-09-07T03:58:23.823508Z",
     "iopub.status.busy": "2020-09-07T03:58:23.822861Z",
     "iopub.status.idle": "2020-09-07T03:58:23.826986Z",
     "shell.execute_reply": "2020-09-07T03:58:23.827583Z"
    },
    "papermill": {
     "duration": 0.017722,
     "end_time": "2020-09-07T03:58:23.827724",
     "exception": false,
     "start_time": "2020-09-07T03:58:23.810002",
     "status": "completed"
    },
    "tags": []
   },
   "outputs": [],
   "source": [
    "# q_3.hint()\n",
    "# q_3.solution()"
   ]
  },
  {
   "cell_type": "markdown",
   "execution_count": null,
   "metadata": {
    "papermill": {
     "duration": 0.00891,
     "end_time": "2020-09-07T03:58:23.845675",
     "exception": false,
     "start_time": "2020-09-07T03:58:23.836765",
     "status": "completed"
    },
    "tags": []
   },
   "source": [
    "# 4) Did Data Augmentation Help?\n",
    "How could you test whether data augmentation improved your model accuracy?"
   ]
  },
  {
   "cell_type": "code",
   "execution_count": 7,
   "metadata": {
    "execution": {
     "iopub.execute_input": "2020-09-07T03:58:23.868926Z",
     "iopub.status.busy": "2020-09-07T03:58:23.868357Z",
     "iopub.status.idle": "2020-09-07T03:58:23.877302Z",
     "shell.execute_reply": "2020-09-07T03:58:23.876748Z"
    },
    "papermill": {
     "duration": 0.022206,
     "end_time": "2020-09-07T03:58:23.877422",
     "exception": false,
     "start_time": "2020-09-07T03:58:23.855216",
     "status": "completed"
    },
    "tags": []
   },
   "outputs": [
    {
     "data": {
      "application/javascript": [
       "parent.postMessage({\"jupyterEvent\": \"custom.exercise_interaction\", \"data\": {\"interactionType\": 3, \"questionType\": 4, \"questionId\": \"4_DidAugmentationHelp\", \"learnToolsVersion\": \"0.3.4\", \"valueTowardsCompletion\": 0.0, \"failureMessage\": \"\", \"exceptionClass\": \"\", \"trace\": \"\", \"outcomeType\": 4}}, \"*\")"
      ],
      "text/plain": [
       "<IPython.core.display.Javascript object>"
      ]
     },
     "metadata": {},
     "output_type": "display_data"
    },
    {
     "data": {
      "text/markdown": [
       "<span style=\"color:#33cc99\">Solution:</span> \n",
       "Create `train_generator` usng `data_generator_no_aug` but don't\n",
       "change other arguments to `train_generator`.\n",
       "\n",
       "Run the model and see the resuling accuracy. Compare this to\n",
       "the accuracy you got when `train_generator` used augmentation.\n",
       "\n",
       "Our validation dataset is very small, so there's a little bit\n",
       "of luck or randomness in the exact score from any\n",
       "model run. Validation scores will be more reliable as you\n",
       "start using larger datasets.\n"
      ],
      "text/plain": [
       "Solution: \n",
       "Create `train_generator` usng `data_generator_no_aug` but don't\n",
       "change other arguments to `train_generator`.\n",
       "\n",
       "Run the model and see the resuling accuracy. Compare this to\n",
       "the accuracy you got when `train_generator` used augmentation.\n",
       "\n",
       "Our validation dataset is very small, so there's a little bit\n",
       "of luck or randomness in the exact score from any\n",
       "model run. Validation scores will be more reliable as you\n",
       "start using larger datasets."
      ]
     },
     "metadata": {},
     "output_type": "display_data"
    }
   ],
   "source": [
    "# Check your answer (Run this code cell to receive credit!)\n",
    "q_4.solution()"
   ]
  },
  {
   "cell_type": "markdown",
   "execution_count": null,
   "metadata": {
    "papermill": {
     "duration": 0.009112,
     "end_time": "2020-09-07T03:58:23.895643",
     "exception": false,
     "start_time": "2020-09-07T03:58:23.886531",
     "status": "completed"
    },
    "tags": []
   },
   "source": [
    "# Keep Going\n",
    "You are ready for **[a deeper understanding of deep learning](https://www.kaggle.com/dansbecker/a-deeper-understanding-of-deep-learning/)**.\n"
   ]
  },
  {
   "cell_type": "markdown",
   "execution_count": null,
   "metadata": {
    "papermill": {
     "duration": 0.009753,
     "end_time": "2020-09-07T03:58:23.914599",
     "exception": false,
     "start_time": "2020-09-07T03:58:23.904846",
     "status": "completed"
    },
    "tags": []
   },
   "source": [
    "---\n",
    "**[Deep Learning Home Page](https://www.kaggle.com/learn/deep-learning)**\n",
    "\n",
    "\n",
    "\n",
    "\n",
    "\n",
    "*Have questions or comments? Visit the [Learn Discussion forum](https://www.kaggle.com/learn-forum) to chat with other Learners.*"
   ]
  }
 ],
 "metadata": {
  "kernelspec": {
   "display_name": "Python 3",
   "language": "python",
   "name": "python3"
  },
  "language_info": {
   "codemirror_mode": {
    "name": "ipython",
    "version": 3
   },
   "file_extension": ".py",
   "mimetype": "text/x-python",
   "name": "python",
   "nbconvert_exporter": "python",
   "pygments_lexer": "ipython3",
   "version": "3.7.6"
  },
  "papermill": {
   "duration": 38.778809,
   "end_time": "2020-09-07T03:58:25.347418",
   "environment_variables": {},
   "exception": null,
   "input_path": "__notebook__.ipynb",
   "output_path": "__notebook__.ipynb",
   "parameters": {},
   "start_time": "2020-09-07T03:57:46.568609",
   "version": "2.1.0"
  }
 },
 "nbformat": 4,
 "nbformat_minor": 4
}
